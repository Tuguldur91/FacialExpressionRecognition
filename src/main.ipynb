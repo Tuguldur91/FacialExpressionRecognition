{
 "cells": [
  {
   "cell_type": "code",
   "execution_count": null,
   "id": "5abd01a3",
   "metadata": {},
   "outputs": [],
   "source": [
    "import random"
   ]
  }
 ],
 "metadata": {
  "language_info": {
   "name": "python"
  }
 },
 "nbformat": 4,
 "nbformat_minor": 5
}
